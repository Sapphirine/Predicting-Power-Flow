{
 "cells": [
  {
   "cell_type": "code",
   "execution_count": 5,
   "id": "4bbce48c",
   "metadata": {},
   "outputs": [],
   "source": [
    "from prophet import Prophet\n",
    "from prophet.diagnostics import cross_validation, performance_metrics\n",
    "from prophet.plot import add_changepoints_to_plot\n",
    "\n",
    "import pandas as pd\n",
    "import numpy as np\n",
    "import datetime as dt\n",
    "from collections import defaultdict\n",
    "import time\n",
    "import datetime as dt\n",
    "from pytz import timezone\n",
    "tz = timezone('EST')\n",
    "from tqdm import tqdm\n",
    "\n",
    "import joblib"
   ]
  },
  {
   "cell_type": "code",
   "execution_count": 22,
   "id": "4d845488",
   "metadata": {},
   "outputs": [],
   "source": [
    "import json\n",
    "from prophet.serialize import model_to_json, model_from_json\n",
    "\n",
    "with open('wcmass_model.json', 'r') as fin:\n",
    "    m = model_from_json(json.load(fin))  # Load model\n",
    "    \n",
    "future_pd = m.make_future_dataframe(\n",
    "        periods=3650,\n",
    "        freq='D',\n",
    "        include_history=False\n",
    "    )\n",
    "    \n",
    "# make predictions\n",
    "forecast_pd = m.predict(future_pd)\n",
    "\n",
    "forecast_pd.to_csv('wcmass_forecast.csv', index=False)"
   ]
  },
  {
   "cell_type": "code",
   "execution_count": null,
   "id": "0f4e12bd",
   "metadata": {},
   "outputs": [],
   "source": []
  }
 ],
 "metadata": {
  "kernelspec": {
   "display_name": "Python 3 (ipykernel)",
   "language": "python",
   "name": "python3"
  },
  "language_info": {
   "codemirror_mode": {
    "name": "ipython",
    "version": 3
   },
   "file_extension": ".py",
   "mimetype": "text/x-python",
   "name": "python",
   "nbconvert_exporter": "python",
   "pygments_lexer": "ipython3",
   "version": "3.9.7"
  }
 },
 "nbformat": 4,
 "nbformat_minor": 5
}
